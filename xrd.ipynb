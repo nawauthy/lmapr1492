{
 "cells": [
  {
   "cell_type": "code",
   "execution_count": 2,
   "metadata": {},
   "outputs": [
    {
     "name": "stdout",
     "output_type": "stream",
     "text": [
      "Le premier pic du diffractogramme se situe en 2theta= 18.76611402472954\n",
      "Et son intensité normalisee vaut 100.0\n",
      "Il est associcié au plan [{'hkl': (1, 1, 1), 'multiplicity': 2}]\n",
      " \n",
      "Le deuxieme pic du diffractogramme se situe en 2theta= 37.093501139503736\n",
      "Et son intensité normalisee vaut 37.94658417917058\n",
      "Il est associcié au plan [{'hkl': (1, 0, 0), 'multiplicity': 6}]\n",
      " \n",
      "Le troisieme pic du diffractogramme se situe en 2theta= 38.06063610882548\n",
      "Et son intensité normalisee vaut 5.386499636463006\n",
      "Il est associcié au plan [{'hkl': (2, 2, 2), 'multiplicity': 2}]\n"
     ]
    }
   ],
   "source": [
    "import pymatgen\n",
    "from pymatgen.ext.matproj import *\n",
    "from pymatgen.analysis.diffraction.xrd import *\n",
    "with MPRester(\"mDfThPfTExFojai5\") as m: \n",
    "    structure = m.get_structure_by_material_id(\"mp-22526\")\n",
    "    analyser=pymatgen.symmetry.analyzer.SpacegroupAnalyzer(structure, symprec=0.01, angle_tolerance=5)\n",
    "    news=analyser.get_primitive_standard_structure(international_monoclinic=True)\n",
    "    analyser2=pymatgen.symmetry.analyzer.SpacegroupAnalyzer(news, symprec=0.01, angle_tolerance=5)\n",
    "    news.to(filename=\"LiCoO2.cif\")\n",
    "    \n",
    "    XRD=pymatgen.analysis.diffraction.xrd.XRDCalculator(wavelength='CuKa1', symprec=0, debye_waller_factors=None)\n",
    "    xxx=XRD.get_pattern(news, scaled=True, two_theta_range=(0, 90))\n",
    "    print('Le premier pic du diffractogramme se situe en 2theta=', xxx.x[0]);\n",
    "    print('Et son intensité normalisee vaut', xxx.y[0]);\n",
    "    print('Il est associcié au plan',xxx.hkls[0]);\n",
    "    print(' ');\n",
    "    print('Le deuxieme pic du diffractogramme se situe en 2theta=',xxx.x[1]);\n",
    "    print('Et son intensité normalisee vaut',xxx.y[1]);\n",
    "    print('Il est associcié au plan',xxx.hkls[1]);\n",
    "    print(' ');\n",
    "    print('Le troisieme pic du diffractogramme se situe en 2theta=',xxx.x[2]);\n",
    "    print('Et son intensité normalisee vaut',xxx.y[2]);\n",
    "    print('Il est associcié au plan',xxx.hkls[2]);\n",
    "    "
   ]
  },
  {
   "cell_type": "code",
   "execution_count": null,
   "metadata": {},
   "outputs": [],
   "source": []
  },
  {
   "cell_type": "code",
   "execution_count": null,
   "metadata": {},
   "outputs": [],
   "source": []
  },
  {
   "cell_type": "code",
   "execution_count": null,
   "metadata": {},
   "outputs": [],
   "source": []
  }
 ],
 "metadata": {
  "kernelspec": {
   "display_name": "Python 3",
   "language": "python",
   "name": "python3"
  },
  "language_info": {
   "codemirror_mode": {
    "name": "ipython",
    "version": 3
   },
   "file_extension": ".py",
   "mimetype": "text/x-python",
   "name": "python",
   "nbconvert_exporter": "python",
   "pygments_lexer": "ipython3",
   "version": "3.6.8"
  }
 },
 "nbformat": 4,
 "nbformat_minor": 2
}
