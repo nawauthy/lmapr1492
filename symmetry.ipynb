{
 "cells": [
  {
   "cell_type": "code",
   "execution_count": 1,
   "metadata": {},
   "outputs": [
    {
     "name": "stdout",
     "output_type": "stream",
     "text": [
      "La premiere symetrie est une 3bar et ses matrices sont:\n",
      "Rot:\n",
      "[[ 1. -1.  0.]\n",
      " [ 1.  0.  0.]\n",
      " [ 0.  0. -1.]]\n",
      "tau\n",
      "[0. 0. 0.]\n",
      "Lorsqu on applique celle-ci a  [ 1.41901496 -0.81926867  4.72465243] Co on obtient: [ 0.33333333  0.66666667 -0.33333333]\n",
      " \n"
     ]
    }
   ],
   "source": [
    "import pymatgen\n",
    "from pymatgen.ext.matproj import *\n",
    "with MPRester(\"mDfThPfTExFojai5\") as m: \n",
    "    structure = m.get_structure_by_material_id(\"mp-22526\")\n",
    "    analyser=pymatgen.symmetry.analyzer.SpacegroupAnalyzer(structure, symprec=0.01, angle_tolerance=5)\n",
    "    news=analyser.get_conventional_standard_structure(international_monoclinic=True)\n",
    "    analyser2=pymatgen.symmetry.analyzer.SpacegroupAnalyzer(news, symprec=0.01, angle_tolerance=5)\n",
    "    news.to(filename=\"LiCoO2.cif\")\n",
    "    sym=analyser2.get_point_group_operations(cartesian=False)\n",
    "    \n",
    "    \n",
    "    #3bar\n",
    "    sym1=pymatgen.core.operations.SymmOp.from_rotation_and_translation(rotation_matrix=sym[5].rotation_matrix, translation_vec=sym[5].translation_vector, tol=0.1)\n",
    "    #C3\n",
    "    sym2=pymatgen.core.operations.SymmOp.from_rotation_and_translation(rotation_matrix=sym[2].rotation_matrix, translation_vec=sym[2].translation_vector, tol=0.1)\n",
    "    #mirror\n",
    "    sym3=pymatgen.core.operations.SymmOp.from_rotation_and_translation(rotation_matrix=sym[7].rotation_matrix, translation_vec=sym[7].translation_vector, tol=0.1)\n",
    "    \n",
    "    #Recuperation des coordonnees des 3 atomes\n",
    "    sites=news.sites\n",
    "    Co_a=sites[4].a\n",
    "    Co_b=sites[4].b\n",
    "    Co_c=sites[4].c\n",
    "    \n",
    "    Li_a=sites[0].a\n",
    "    Li_b=sites[0].b\n",
    "    Li_c=sites[0].c\n",
    "    \n",
    "    O_a=sites[6].a\n",
    "    O_b=sites[6].b\n",
    "    O_c=sites[6].c\n",
    "    \n",
    "    #Application des symmetries sur les atomes\n",
    "    Co=sym1.operate((Co_a,Co_b,Co_c))\n",
    "    Li=sym2.operate((Li_a,Li_b,Li_c))\n",
    "    O1=sym3.operate((O_a,O_b,O_c))\n",
    "    \n",
    "    \n",
    "    print('La premiere symetrie est une 3bar et ses matrices sont:');\n",
    "    print(sym1);\n",
    "    print('Lorsqu on applique celle-ci a ',sites[4],'on obtient:',Co);\n",
    "    print(' ');\n",
    "   \n",
    "    \n",
    "    \n",
    "    "
   ]
  },
  {
   "cell_type": "code",
   "execution_count": 2,
   "metadata": {},
   "outputs": [
    {
     "name": "stdout",
     "output_type": "stream",
     "text": [
      "La deuxieme symetrie est une C3 et ses matrices sont:\n",
      "Rot:\n",
      "[[ 0. -1.  0.]\n",
      " [ 1. -1.  0.]\n",
      " [ 0.  0.  1.]]\n",
      "tau\n",
      "[0. 0. 0.]\n",
      "Lorsqu on applique celle-ci a  [ 1.41901496 -0.81926867 11.81163108] Li on obtient: [-0.33333333  0.33333333  0.83333333]\n",
      " \n"
     ]
    }
   ],
   "source": [
    "print('La deuxieme symetrie est une C3 et ses matrices sont:');\n",
    "print(sym2);\n",
    "print('Lorsqu on applique celle-ci a ',sites[0],'on obtient:',Li);\n",
    "print(' ');"
   ]
  },
  {
   "cell_type": "code",
   "execution_count": 3,
   "metadata": {},
   "outputs": [
    {
     "name": "stdout",
     "output_type": "stream",
     "text": [
      "La derniere symetrie est un mirroir et ses matrices sont:\n",
      "Rot:\n",
      "[[ 0. -1.  0.]\n",
      " [-1.  0.  0.]\n",
      " [ 0.  0.  1.]]\n",
      "tau\n",
      "[0. 0. 0.]\n",
      "Enfin, lorsqu on applique celle-ci a  [ 1.41901496  0.81926867 13.14168395] O on obtient: [-0.66666667 -0.33333333  0.92717113]\n"
     ]
    }
   ],
   "source": [
    "print('La derniere symetrie est un mirroir et ses matrices sont:');\n",
    "print(sym3);\n",
    "print('Enfin, lorsqu on applique celle-ci a ',sites[6],'on obtient:',O1);\n",
    "    "
   ]
   ![alt tag](https://user-images.githubusercontent.com/60851293/76848668-63398400-6844-11ea-96d7-4c68839d8b61.PNG)
  },
  {
   "cell_type": "code",
   "execution_count": null,
   "metadata": {},
   "outputs": [],
   "source": []
  }
 ],
 "metadata": {
  "kernelspec": {
   "display_name": "Python 3",
   "language": "python",
   "name": "python3"
  },
  "language_info": {
   "codemirror_mode": {
    "name": "ipython",
    "version": 3
   },
   "file_extension": ".py",
   "mimetype": "text/x-python",
   "name": "python",
   "nbconvert_exporter": "python",
   "pygments_lexer": "ipython3",
   "version": "3.6.8"
  }
 },
 "nbformat": 4,
 "nbformat_minor": 2
}
