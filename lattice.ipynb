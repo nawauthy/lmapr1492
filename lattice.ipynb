{
 "cells": [
  {
   "cell_type": "code",
   "execution_count": 11,
   "metadata": {},
   "outputs": [
    {
     "name": "stdout",
     "output_type": "stream",
     "text": [
      "Vecteurs de base des ses réseaux directs\n",
      "a= [ 4.79515816 -1.41901496  0.        ]\n",
      "b= [4.79515816 1.41901496 0.        ]\n",
      "c= [4.37523385 0.         2.42166759]\n",
      "Vecteurs de base des ses réseaux réciproques\n",
      "a*= [ 0.65515934 -2.21392497 -1.18367828]\n",
      "b*= [ 0.65515934  2.21392497 -1.18367828]\n",
      "c*= [0.         0.         2.59456968]\n",
      "Type de maille= rhombohedral\n",
      "Système cristallin= trigonal\n",
      "Groupe ponctuel= -3m\n"
     ]
    }
   ],
   "source": [
    "import pymatgen\n",
    "from pymatgen.ext.matproj import MPRester\n",
    "with MPRester(\"mDfThPfTExFojai5\") as m: \n",
    "# Structure for material id\n",
    "    structure = m.get_structure_by_material_id(\"mp-22526\")\n",
    "    structure.to(filename=\"LiCoO2.cif\")\n",
    "        \n",
    "    analyser=pymatgen.symmetry.analyzer.SpacegroupAnalyzer(structure, symprec=0.01, angle_tolerance=5)\n",
    "    news=analyser.get_primitive_standard_structure(international_monoclinic=True)\n",
    "    lat=news.lattice.matrix\n",
    "    a=lat[0]\n",
    "    b=lat[1]\n",
    "    c=lat[2]\n",
    "    lat_rec=news.lattice.reciprocal_lattice.matrix\n",
    "    a_rec=lat_rec[0]\n",
    "    b_rec=lat_rec[1]\n",
    "    c_rec=lat_rec[2]\n",
    "    \n",
    "    systcrist=analyser.get_crystal_system()\n",
    "    typemaille=analyser.get_lattice_type()\n",
    "    groupeponctuel=analyser.get_point_group_symbol()\n",
    "    \n",
    "    print (\"Vecteurs de base des ses réseaux directs\" )\n",
    "    print(\"a=\",a)\n",
    "    print(\"b=\",b)\n",
    "    print(\"c=\",c)\n",
    "    print (\"Vecteurs de base des ses réseaux réciproques\" )\n",
    "    print(\"a*=\",a_rec)\n",
    "    print(\"b*=\",b_rec)\n",
    "    print(\"c*=\",c_rec)\n",
    "    print (\"Type de maille=\",typemaille);\n",
    "    \n",
    "    print (\"Système cristallin=\",systcrist);\n",
    "    \n",
    "    print (\"Groupe ponctuel=\",groupeponctuel);"
   ]
  },
  {
   "cell_type": "code",
   "execution_count": null,
   "metadata": {},
   "outputs": [],
   "source": []
  },
  {
   "cell_type": "code",
   "execution_count": null,
   "metadata": {},
   "outputs": [],
   "source": []
  }
 ],
 "metadata": {
  "kernelspec": {
   "display_name": "Python 3",
   "language": "python",
   "name": "python3"
  },
  "language_info": {
   "codemirror_mode": {
    "name": "ipython",
    "version": 3
   },
   "file_extension": ".py",
   "mimetype": "text/x-python",
   "name": "python",
   "nbconvert_exporter": "python",
   "pygments_lexer": "ipython3",
   "version": "3.6.8"
  }
 },
 "nbformat": 4,
 "nbformat_minor": 2
}
