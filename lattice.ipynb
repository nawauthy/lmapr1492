{
 "cells": [
  {
   "cell_type": "code",
   "execution_count": 8,
   "metadata": {},
   "outputs": [
    {
     "name": "stdout",
     "output_type": "stream",
     "text": [
      "Vecteurs de base des ses réseaux directs\n",
      "a= [2.73875532 0.01270104 4.18404176]\n",
      "b= [1.25707696 2.4332477  4.18404175]\n",
      "c= [0.02074908 0.01270103 5.00065543]\n",
      "Vecteurs de base des ses réseaux réciproques\n",
      "a*= [ 2.30971164 -1.18193778 -0.00658165]\n",
      "b*= [-1.97743892e-03  2.59456076e+00 -6.58165004e-03]\n",
      "c*= [-1.93087814 -1.18193976  1.26748607]\n",
      "Type de maille= rhombohedral\n",
      "Système cristallin= trigonal\n",
      "Groupe ponctuel= -3m\n"
     ]
    }
   ],
   "source": [
    "import pymatgen\n",
    "from pymatgen.ext.matproj import MPRester\n",
    "with MPRester(\"mDfThPfTExFojai5\") as m: \n",
    "# Structure for material id\n",
    "    structure = m.get_structure_by_material_id(\"mp-22526\")\n",
    "    structure.to(filename=\"LiCoO2.cif\")\n",
    "        \n",
    "    \n",
    "    lat=structure.lattice.matrix\n",
    "    a=lat[0]\n",
    "    b=lat[1]\n",
    "    c=lat[2]\n",
    "    lat_rec=structure.lattice.reciprocal_lattice.matrix\n",
    "    a_rec=lat_rec[0]\n",
    "    b_rec=lat_rec[1]\n",
    "    c_rec=lat_rec[2]\n",
    "    analyser=pymatgen.symmetry.analyzer.SpacegroupAnalyzer(structure, symprec=0.01, angle_tolerance=5)\n",
    "    systcrist=analyser.get_crystal_system()\n",
    "    typemaille=analyser.get_lattice_type()\n",
    "    groupeponctuel=analyser.get_point_group_symbol()\n",
    "    \n",
    "    print (\"Vecteurs de base des ses réseaux directs\" )\n",
    "    print(\"a=\",a)\n",
    "    print(\"b=\",b)\n",
    "    print(\"c=\",c)\n",
    "    print (\"Vecteurs de base des ses réseaux réciproques\" )\n",
    "    print(\"a*=\",a_rec)\n",
    "    print(\"b*=\",b_rec)\n",
    "    print(\"c*=\",c_rec)\n",
    "    print (\"Type de maille=\",typemaille);\n",
    "    \n",
    "    print (\"Système cristallin=\",systcrist);\n",
    "    \n",
    "    print (\"Groupe ponctuel=\",groupeponctuel);"
   ]
  },
  {
   "cell_type": "code",
   "execution_count": null,
   "metadata": {},
   "outputs": [],
   "source": []
  },
  {
   "cell_type": "code",
   "execution_count": null,
   "metadata": {},
   "outputs": [],
   "source": []
  }
 ],
 "metadata": {
  "kernelspec": {
   "display_name": "Python 3",
   "language": "python",
   "name": "python3"
  },
  "language_info": {
   "codemirror_mode": {
    "name": "ipython",
    "version": 3
   },
   "file_extension": ".py",
   "mimetype": "text/x-python",
   "name": "python",
   "nbconvert_exporter": "python",
   "pygments_lexer": "ipython3",
   "version": "3.6.8"
  }
 },
 "nbformat": 4,
 "nbformat_minor": 2
}
